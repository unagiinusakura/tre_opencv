{
 "cells": [
  {
   "cell_type": "markdown",
   "metadata": {},
   "source": [
    "## セクション5:動画処理・動画解析"
   ]
  },
  {
   "cell_type": "markdown",
   "metadata": {},
   "source": [
    "#### 40.色検出"
   ]
  },
  {
   "cell_type": "code",
   "execution_count": 1,
   "metadata": {},
   "outputs": [],
   "source": [
    "import cv2\n",
    "import numpy as np"
   ]
  },
  {
   "cell_type": "code",
   "execution_count": 6,
   "metadata": {},
   "outputs": [],
   "source": [
    "cap = cv2.VideoCapture('data/movie/Mobility.mp4')\n",
    "while True:\n",
    "    cv2.namedWindow('img', cv2.WINDOW_NORMAL)\n",
    "    cv2.resizeWindow('img', 640, 480)\n",
    "    ret, frame = cap.read()\n",
    "    if ret == False:\n",
    "        break\n",
    "    hsv = cv2.cvtColor(frame, cv2.COLOR_BGR2HSV)\n",
    "    lower = np.array([20, 50, 50]) #黄色定義の下限\n",
    "    upper = np.array([25, 255, 255]) #黄色定義の上限\n",
    "    frame_mask = cv2.inRange(hsv, lower, upper)\n",
    "    dst = cv2.bitwise_and(frame, frame, mask = frame_mask) #2値画像の論理積で共通する部分を求める\n",
    "    cv2.imshow('img', dst)\n",
    "    if cv2.waitKey(10) == 27: #Esc押すと終了\n",
    "        break\n",
    "cv2.destroyAllWindows()"
   ]
  },
  {
   "cell_type": "markdown",
   "metadata": {},
   "source": [
    "#### 41.オプティカルフロー"
   ]
  },
  {
   "cell_type": "code",
   "execution_count": 31,
   "metadata": {},
   "outputs": [],
   "source": [
    "cv2.namedWindow('img', cv2.WINDOW_NORMAL)\n",
    "cv2.resizeWindow('img', 1200, 800)\n",
    "COUNT = 500  # 特徴点の設定\n",
    "criteria = (cv2.TERM_CRITERIA_MAX_ITER | cv2.TERM_CRITERIA_EPS, 20, 0.03) # 収束条件\n",
    "lk_params = dict(winSize=(10,10), maxLevel=4, criteria=criteria)\n",
    "cap = cv2.VideoCapture('data/movie/Cosmos.mp4')\n",
    "ret, frame = cap.read()\n",
    "frame_pre = cv2.cvtColor(frame, cv2.COLOR_BGR2GRAY)\n",
    "while True:\n",
    "    ret, frame = cap.read()\n",
    "    if ret == False:\n",
    "        break\n",
    "    frame_now = cv2.cvtColor(frame, cv2.COLOR_BGR2GRAY)\n",
    "    feature_pre = cv2.goodFeaturesToTrack(frame_pre, COUNT, 0.001, 5)\n",
    "    if feature_pre is None:\n",
    "        continue\n",
    "    feature_now, status, err = cv2.calcOpticalFlowPyrLK(frame_pre, frame_now, feature_pre, None, **lk_params)\n",
    "    for i in range(COUNT):\n",
    "        pre_x = feature_pre[i][0][0]\n",
    "        pre_y = feature_pre[i][0][1]\n",
    "        now_x = feature_now[i][0][0]\n",
    "        now_y = feature_now[i][0][1]\n",
    "        cv2.line(frame, (pre_x, pre_y), (now_x, now_y), (255, 0, 0), 3)\n",
    "    cv2.imshow('img', frame)\n",
    "    frame_pre = frame_now.copy()\n",
    "    if cv2.waitKey(10) == 27:\n",
    "        break        \n",
    "cv2.destroyAllWindows()"
   ]
  },
  {
   "cell_type": "markdown",
   "metadata": {},
   "source": [
    "#### 42. MeanShift・CamShift"
   ]
  },
  {
   "cell_type": "code",
   "execution_count": 39,
   "metadata": {},
   "outputs": [],
   "source": [
    "cap = cv2.VideoCapture('data/movie/Cruse.mp4')\n",
    "ret, frame = cap.read()\n",
    "h, w, ch = frame.shape"
   ]
  },
  {
   "cell_type": "code",
   "execution_count": 34,
   "metadata": {},
   "outputs": [],
   "source": [
    "# meanShiftの場合\n",
    "rct = (600, 500, 200, 200) #検索窓の開始点座標と窓の大きさ\n",
    "cv2.namedWindow('win', cv2.WINDOW_NORMAL)\n",
    "cv2.resizeWindow('win', 1200, 800)\n",
    "cri = (cv2.TERM_CRITERIA_COUNT | cv2.TERM_CRITERIA_EPS, 10, 1) #収束条件\n",
    "while True:\n",
    "    threshold = 100\n",
    "    ret, frame = cap.read()\n",
    "    if ret == False:\n",
    "        break\n",
    "    img_g  = cv2.cvtColor(frame, cv2.COLOR_BGR2GRAY)\n",
    "    ret, img_bin = cv2.threshold(img_g, threshold, 255, cv2.THRESH_BINARY) #2値画像を取得\n",
    "    ret, rct = cv2.meanShift(img_bin, rct, cri)\n",
    "    x, y, w, h = rct\n",
    "    frame = cv2.rectangle(frame, (x, y), (x+w, y+h), (255, 0, 0),3)\n",
    "    cv2.imshow('win', frame)\n",
    "    if cv2.waitKey(10) == 27:\n",
    "        break\n",
    "cv2.destroyAllWindows()"
   ]
  },
  {
   "cell_type": "code",
   "execution_count": 40,
   "metadata": {},
   "outputs": [],
   "source": [
    "# CamShiftの場合\n",
    "rct = (600, 500, 200, 200) #検索窓の開始点座標と窓の大きさ\n",
    "cv2.namedWindow('win', cv2.WINDOW_NORMAL)\n",
    "cv2.resizeWindow('win', 1200, 800)\n",
    "cri = (cv2.TERM_CRITERIA_COUNT | cv2.TERM_CRITERIA_EPS, 10, 1) #収束条件\n",
    "while True:\n",
    "    threshold = 100\n",
    "    ret, frame = cap.read()\n",
    "    if ret == False:\n",
    "        break\n",
    "    img_g  = cv2.cvtColor(frame, cv2.COLOR_BGR2GRAY)\n",
    "    ret, img_bin = cv2.threshold(img_g, threshold, 255, cv2.THRESH_BINARY) #2値画像を取得\n",
    "    ret, rct = cv2.CamShift(img_bin, rct, cri)\n",
    "    x, y, w, h = rct\n",
    "    frame = cv2.rectangle(frame, (x, y), (x+w, y+h), (255, 0, 0),3)\n",
    "    cv2.imshow('win', frame)\n",
    "    if cv2.waitKey(10) == 27:\n",
    "        break\n",
    "cv2.destroyAllWindows()"
   ]
  },
  {
   "cell_type": "markdown",
   "metadata": {},
   "source": [
    "#### 43.背景差分"
   ]
  },
  {
   "cell_type": "code",
   "execution_count": 45,
   "metadata": {},
   "outputs": [],
   "source": [
    "cv2.namedWindow('img', cv2.WINDOW_NORMAL)\n",
    "cv2.resizeWindow('img', 1200, 800)\n",
    "cap = cv2.VideoCapture('data/movie/Pepole.mp4')\n",
    "ret, frame = cap.read()\n",
    "h, w, ch = frame.shape\n",
    "frame_back = np.zeros((h, w, ch), dtype=np.float32)\n",
    "while True:\n",
    "    ret, frame = cap.read()\n",
    "    if ret == False:\n",
    "        break\n",
    "    frame_diff = cv2.absdiff(frame.astype(np.float32), frame_back)\n",
    "    cv2.accumulateWeighted(frame, frame_back, 0.03) #frame_backに3%づつ元画像を混ぜる\n",
    "    cv2.imshow('img', frame_diff.astype(np.uint8))\n",
    "    if cv2.waitKey(10) == 27:\n",
    "        break\n",
    "cv2.destroyAllWindows()"
   ]
  },
  {
   "cell_type": "markdown",
   "metadata": {},
   "source": [
    "#### 45.パーティクルフィルター"
   ]
  },
  {
   "cell_type": "code",
   "execution_count": 46,
   "metadata": {},
   "outputs": [],
   "source": [
    "import cv2\n",
    "import numpy as np\n",
    "import random2\n",
    "import likelihood as li"
   ]
  },
  {
   "cell_type": "code",
   "execution_count": 50,
   "metadata": {},
   "outputs": [],
   "source": [
    "cap = cv2.VideoCapture('data/movie/Tram.mp4')\n",
    "ret, frame = cap.read()\n",
    "h, w = frame.shape[:2]\n",
    "np.random.seed(100)\n",
    "Np = 500 # 粒子の設定\n",
    "px = np.zeros((Np), dtype=np.int64)\n",
    "py = np.zeros((Np), dtype=np.int64)\n",
    "lp = np.zeros((Np)) #粒子の尤度を入れる箱\n",
    "for i in range(Np):\n",
    "    px[i] = int(np.random.uniform(0,w))\n",
    "    py[i] = int(np.random.uniform(0,h))\n",
    "obj = [0, 110, 160] #動画の黄色い部分を指定\n",
    "while True:\n",
    "    ret, frame = cap.read()\n",
    "    if ret == False:\n",
    "        break\n",
    "    lp = li.likelihood(frame, px, py, obj, Np, sigma2=0.001)\n",
    "    pxnew = np.array(random2.choices(population=px, weights=lp, k = Np)) + np.random.randint(-15, 15, Np)\n",
    "    pynew = np.array(random2.choices(population=py, weights=lp, k = Np)) + np.random.randint(-15, 15, Np)\n",
    "    px = np.where(pxnew > w -1, w -1, pxnew) #画面からはみ出した時の処理\n",
    "    py = np.where(pynew > h -1, h -1, pynew) #画面からはみ出した時の処理\n",
    "    px = np.where(px < 0, 0, px)\n",
    "    py = np.where(py < 0, 0, py)\n",
    "    for i in range(Np):\n",
    "        cv2.circle(frame, (px[i],py[i]), 1, (0, 255, 0), 1)\n",
    "    cv2.imshow('img', frame)\n",
    "    if cv2.waitKey(10) == 27:\n",
    "        break\n",
    "cv2.destroyAllWindows()"
   ]
  },
  {
   "cell_type": "code",
   "execution_count": 52,
   "metadata": {},
   "outputs": [
    {
     "data": {
      "text/plain": [
       "['.ipynb_checkpoints',\n",
       " 'data',\n",
       " 'likelihood.py',\n",
       " 'output',\n",
       " 'random2.py',\n",
       " 'section3.ipynb',\n",
       " 'section4.ipynb',\n",
       " 'section5.ipynb',\n",
       " '__pycache__']"
      ]
     },
     "execution_count": 52,
     "metadata": {},
     "output_type": "execute_result"
    }
   ],
   "source": [
    "import os\n",
    "os.listdir()"
   ]
  },
  {
   "cell_type": "code",
   "execution_count": null,
   "metadata": {},
   "outputs": [],
   "source": []
  }
 ],
 "metadata": {
  "kernelspec": {
   "display_name": "Python 3",
   "language": "python",
   "name": "python3"
  },
  "language_info": {
   "codemirror_mode": {
    "name": "ipython",
    "version": 3
   },
   "file_extension": ".py",
   "mimetype": "text/x-python",
   "name": "python",
   "nbconvert_exporter": "python",
   "pygments_lexer": "ipython3",
   "version": "3.5.5"
  }
 },
 "nbformat": 4,
 "nbformat_minor": 2
}
